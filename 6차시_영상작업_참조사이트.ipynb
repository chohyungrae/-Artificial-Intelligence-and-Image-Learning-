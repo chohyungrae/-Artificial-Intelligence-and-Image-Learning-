{
  "nbformat": 4,
  "nbformat_minor": 0,
  "metadata": {
    "colab": {
      "name": "6차시 영상작업  참조사이트.ipynb",
      "provenance": [],
      "authorship_tag": "ABX9TyMRnjiq84j1src+dYE0YTjn",
      "include_colab_link": true
    },
    "kernelspec": {
      "name": "python3",
      "display_name": "Python 3"
    }
  },
  "cells": [
    {
      "cell_type": "markdown",
      "metadata": {
        "id": "view-in-github",
        "colab_type": "text"
      },
      "source": [
        "<a href=\"https://colab.research.google.com/github/chohyungrae/-Artificial-Intelligence-and-Image-Learning-/blob/master/6%EC%B0%A8%EC%8B%9C_%EC%98%81%EC%83%81%EC%9E%91%EC%97%85_%EC%B0%B8%EC%A1%B0%EC%82%AC%EC%9D%B4%ED%8A%B8.ipynb\" target=\"_parent\"><img src=\"https://colab.research.google.com/assets/colab-badge.svg\" alt=\"Open In Colab\"/></a>"
      ]
    },
    {
      "cell_type": "markdown",
      "metadata": {
        "id": "Ez4jprgzQlhn",
        "colab_type": "text"
      },
      "source": [
        "### **[ 영상 스터디 ]**\n",
        "- 영상배경 소스)\n",
        "4K Colorful Relaxing Comets Pillar 2160p Motion Background - Free Video Background Loops;\n",
        "https://www.youtube.com/watch?v=s22ViV7tBKE&list=RDCMUCilPIl-SwFbtsoH8WLnvlfA&start_radio=1&t=4\n",
        "\n",
        "\n",
        "- Fire Particles; https://www.youtube.com/watch?v=qrnBDTBde3E\n",
        "\n",
        "\n",
        "- 4K Magical Ground 2160p Beautiful Animated Wallpaper HD Background video effect 1080p AA VFX\n",
        "https://www.youtube.com/watch?v=A7ZkZazfvao&list=RDCMUCilPIl-SwFbtsoH8WLnvlfA&start_radio=1&t=3\n",
        "\n",
        "\n",
        "- Entering The Stronghold | Audio Visual Animation HD!;\n",
        "https://www.youtube.com/watch?v=0pXYp72dwl0&list=RDCMUC-kC2CW_Ipi8TvJhzT7Wc_Q&start_radio=1&t=15\n",
        "\n",
        "\n",
        "- 블루스크린 자료)\n",
        "Avengers : EndGame Disintegration Effect Green Screen || Disintegration Particles Green Screen\n",
        "https://www.youtube.com/watch?v=FJwQMb2Av8k&list=RDCMUCGzNB26VntieZNRUm2IB7mg&start_radio=1&t=13\n",
        "\n",
        "\n",
        "- 아티스트 작품모음 사이트)\n",
        "https://www.thisiscolossal.com/2013/12/traceloops-matthias-brown/\n",
        "\n",
        "\n",
        "\n",
        "- 3D프렉탈)\n",
        "[3D FRACTAL] BIRDS OF PARADISE - Eternal Recurrence (Official Music Video);\n",
        "https://www.youtube.com/watch?v=96aX1emdwf8&list=RD96aX1emdwf8&start_radio=1&t=18\n",
        "\n",
        "\n",
        "- Rone - Mirapolis (Official Video))\n",
        "https://www.youtube.com/watch?v=PH-7tMK7uew&list=RDPH-7tMK7uew&start_radio=1&t=36\n",
        "\n",
        "\n",
        "- Max Cooper feat BRAIDS - Pleasures (official video by Cedric De Smedt))\n",
        "https://www.youtube.com/watch?v=l9cnTSMPm8c&list=RDl9cnTSMPm8c&start_radio=1&t=164\n",
        "\n",
        "\n",
        "- VIMEO\n",
        "Air Review – Young.)\n",
        "https://vimeo.com/93965105\n",
        "\n",
        "- 데이터시각화)Most Popular Websites 1996 – 2019;\n",
        "\n",
        "https://www.youtube.com/watch?v=2Uj1A9AguFs&list=RDCMUCkWbqlDAyJh2n8DN5X6NZyg&start_radio=1&t=8\n",
        "\n",
        "- 가장 인기있는 애니메이션 시리즈 2000 – 2019;\n",
        "https://www.youtube.com/watch?v=opRvRJzBWfo\n",
        "\n",
        "- CGI 3D;\n",
        "(PG-13) CGI Anime Short: \"X-STORY\" - by Vitaliy Shushko | TheCGBros)\n",
        "https://www.youtube.com/watch?v=96ds226oA_U&list=RDCMUC-1rx8j9Ggp8mp4uD0ZdEIA&start_radio=1&t=209\n",
        "\n",
        "- 애니메이션)\n",
        "Die Eierbrecher (Animation);\n",
        "https://www.youtube.com/watch?v=QeYB5TnYNiE&list=RDCMUCSLNwqRKhqIB4WivGwo4pyw&index=1\n",
        "\n",
        "- Processing art)\n",
        "JOHANN SEBASTIAN BACH | Generative portraits of classical music composers (Processing art);\n",
        "https://www.youtube.com/watch?v=ZzNO3FvkTJM&list=PLbLdd1fdNg5zFBM6c_SxdDzxAwuTL_c3D\n",
        "\n",
        "\n",
        "\n",
        "\n",
        "\n",
        "\n",
        "\n"
      ]
    },
    {
      "cell_type": "code",
      "metadata": {
        "id": "coiCurxbQs7S",
        "colab_type": "code",
        "colab": {}
      },
      "source": [
        ""
      ],
      "execution_count": null,
      "outputs": []
    }
  ]
}